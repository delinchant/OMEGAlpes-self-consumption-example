{
 "cells": [
  {
   "cell_type": "markdown",
   "metadata": {},
   "source": [
    "###Modélisation énergétique sous OMEGAlpes"
   ]
  },
  {
   "cell_type": "markdown",
   "metadata": {
    "collapsed": true
   },
   "source": [
    "Tout d'abord, nous allons importer tous les élements nécessaires à la construction de notre modèle."
   ]
  },
  {
   "cell_type": "code",
   "execution_count": null,
   "metadata": {},
   "outputs": [],
   "source": [
    "from examples.utils.data_utils import *"
   ]
  },
  {
   "cell_type": "markdown",
   "metadata": {},
   "source": [
    "Un premier point pour étudier la stratégie de gestion énergétique optimale de cette\n",
    "maison est d’introduire la dynamique associée au cas d’étude. Ici, nous choisirons d’étudier un scénario d’une période de 24 heures, au pas de temps de 5 minutes. De plus, le cas d’étude est appliqué à la journée du 10 août 2016. Ces informations nous permettent d’instancier notre classe *TimeUnit* comme suit :"
   ]
  },
  {
   "cell_type": "code",
   "execution_count": 2,
   "metadata": {},
   "outputs": [
    {
     "name": "stdout",
     "output_type": "stream",
     "text": [
      "You are studying the period from 2016-08-10 00:00:00 to 2016-08-10 23:55:00\n"
     ]
    }
   ],
   "source": [
    "time = TimeUnit(start='10/08/2016', periods=24*12, dt=1/12)"
   ]
  },
  {
   "cell_type": "markdown",
   "metadata": {},
   "source": [
    "Ici, le nombre de périodes, défini par le paramètre *periods*, est de 24 heures au pas de temps 5 minutes, donc 24\\*12 périodes. Le pas de temps *dt* est défini de façon horaire et fixé à 1 par défaut. Ainsi, notre pas de temps de 5 minutes est défini comme 1/12 d'heure. Il aurait également été possible de définir notre objet représentatif du temps en définissant des dates de début et de fin à la place du nombre de périodes. Par défaut, la date de début du problème est le 01/01/2018."
   ]
  },
  {
   "cell_type": "markdown",
   "metadata": {},
   "source": [
    "Ensuite, nous pouvons passer à la description énergétique du cas d'étude. Côté réseau électrique, l'import et l'export d'énergie ont été respectivement représentés par des unités de production et de consommation variables, puisque les flux énergétiques associés dépendront de la stratégie de consommation établie. Les lignes de code associées sont donc les suivantes :"
   ]
  },
  {
   "cell_type": "code",
   "execution_count": 3,
   "metadata": {},
   "outputs": [
    {
     "name": "stdout",
     "output_type": "stream",
     "text": [
      "Creating the exports.\nCreating the exports.\n"
     ]
    }
   ],
   "source": [
    "exports = VariableConsumptionUnit(time, name=\"exports\", \n",
    "                                  energy_type=energy_types.elec)"
   ]
  },
  {
   "cell_type": "code",
   "execution_count": 4,
   "metadata": {},
   "outputs": [
    {
     "name": "stdout",
     "output_type": "stream",
     "text": [
      "Creating the imports.\nCreating the imports.\n"
     ]
    }
   ],
   "source": [
    "imports = VariableProductionUnit(time, name=\"imports\", pmax=6000,\n",
    "                                 energy_type=energy_types.elec)"
   ]
  },
  {
   "cell_type": "markdown",
   "metadata": {},
   "source": [
    "À l'import énergétique du réseau électrique, s'ajoute la production solaire photovoltaïque (PV). Non pilotable, elle sera donc modélisée grâce à une unité de production fixe, en entrant son profil de production (PV_profile), comme suit :"
   ]
  },
  {
   "cell_type": "code",
   "execution_count": null,
   "metadata": {
    "collapsed": true
   },
   "outputs": [
    {
     "name": "stdout",
     "output_type": "stream",
     "text": [
      "Importing PV profile at a 5-minutes time step.\n"
     ]
    },
    {
     "ename": "FileNotFoundError",
     "evalue": "File b'data/PV_production.csv' does not exist",
     "traceback": [
      "\u001b[1;31m---------------------------------------------------------------------------\u001b[0m",
      "\u001b[1;31mFileNotFoundError\u001b[0m                         Traceback (most recent call last)",
      "\u001b[1;32m<ipython-input-5-d16c3591a977>\u001b[0m in \u001b[0;36m<module>\u001b[1;34m()\u001b[0m\n\u001b[1;32m----> 1\u001b[1;33m \u001b[0mPV_profile\u001b[0m \u001b[1;33m=\u001b[0m \u001b[0mimport_PV_profile_5_min\u001b[0m\u001b[1;33m(\u001b[0m\u001b[1;33m)\u001b[0m\u001b[1;33m\u001b[0m\u001b[0m\n\u001b[0m",
      "\u001b[1;32mD:\\02-Travail de thèse\\Codes\\Development\\examples\\utils\\data_utils.py\u001b[0m in \u001b[0;36mimport_PV_profile_5_min\u001b[1;34m()\u001b[0m\n\u001b[0;32m     59\u001b[0m     \"\"\"\n\u001b[0;32m     60\u001b[0m     \u001b[0mprint\u001b[0m\u001b[1;33m(\u001b[0m\u001b[1;34m'Importing PV profile at a 5-minutes time step.'\u001b[0m\u001b[1;33m)\u001b[0m\u001b[1;33m\u001b[0m\u001b[0m\n\u001b[1;32m---> 61\u001b[1;33m     \u001b[0mPV_prod\u001b[0m \u001b[1;33m=\u001b[0m \u001b[0mpd\u001b[0m\u001b[1;33m.\u001b[0m\u001b[0mread_csv\u001b[0m\u001b[1;33m(\u001b[0m\u001b[1;34m'data/PV_production.csv'\u001b[0m\u001b[1;33m,\u001b[0m \u001b[0msep\u001b[0m\u001b[1;33m=\u001b[0m\u001b[1;34m';'\u001b[0m\u001b[1;33m)\u001b[0m\u001b[1;33m\u001b[0m\u001b[0m\n\u001b[0m\u001b[0;32m     62\u001b[0m     \u001b[0mPV_prod_profile_5min\u001b[0m \u001b[1;33m=\u001b[0m \u001b[1;33m(\u001b[0m\u001b[1;36m1000\u001b[0m \u001b[1;33m*\u001b[0m \u001b[0mPV_prod\u001b[0m\u001b[1;33m[\u001b[0m\u001b[1;34m'Power(kW)'\u001b[0m\u001b[1;33m]\u001b[0m\u001b[1;33m)\u001b[0m\u001b[1;33m.\u001b[0m\u001b[0mtolist\u001b[0m\u001b[1;33m(\u001b[0m\u001b[1;33m)\u001b[0m\u001b[1;33m\u001b[0m\u001b[0m\n\u001b[0;32m     63\u001b[0m \u001b[1;33m\u001b[0m\u001b[0m\n",
      "\u001b[1;32mC:\\Python3.6.0\\lib\\site-packages\\pandas\\io\\parsers.py\u001b[0m in \u001b[0;36mparser_f\u001b[1;34m(filepath_or_buffer, sep, delimiter, header, names, index_col, usecols, squeeze, prefix, mangle_dupe_cols, dtype, engine, converters, true_values, false_values, skipinitialspace, skiprows, nrows, na_values, keep_default_na, na_filter, verbose, skip_blank_lines, parse_dates, infer_datetime_format, keep_date_col, date_parser, dayfirst, iterator, chunksize, compression, thousands, decimal, lineterminator, quotechar, quoting, escapechar, comment, encoding, dialect, tupleize_cols, error_bad_lines, warn_bad_lines, skipfooter, skip_footer, doublequote, delim_whitespace, as_recarray, compact_ints, use_unsigned, low_memory, buffer_lines, memory_map, float_precision)\u001b[0m\n\u001b[0;32m    707\u001b[0m                     skip_blank_lines=skip_blank_lines)\n\u001b[0;32m    708\u001b[0m \u001b[1;33m\u001b[0m\u001b[0m\n\u001b[1;32m--> 709\u001b[1;33m         \u001b[1;32mreturn\u001b[0m \u001b[0m_read\u001b[0m\u001b[1;33m(\u001b[0m\u001b[0mfilepath_or_buffer\u001b[0m\u001b[1;33m,\u001b[0m \u001b[0mkwds\u001b[0m\u001b[1;33m)\u001b[0m\u001b[1;33m\u001b[0m\u001b[0m\n\u001b[0m\u001b[0;32m    710\u001b[0m \u001b[1;33m\u001b[0m\u001b[0m\n\u001b[0;32m    711\u001b[0m     \u001b[0mparser_f\u001b[0m\u001b[1;33m.\u001b[0m\u001b[0m__name__\u001b[0m \u001b[1;33m=\u001b[0m \u001b[0mname\u001b[0m\u001b[1;33m\u001b[0m\u001b[0m\n",
      "\u001b[1;32mC:\\Python3.6.0\\lib\\site-packages\\pandas\\io\\parsers.py\u001b[0m in \u001b[0;36m_read\u001b[1;34m(filepath_or_buffer, kwds)\u001b[0m\n\u001b[0;32m    447\u001b[0m \u001b[1;33m\u001b[0m\u001b[0m\n\u001b[0;32m    448\u001b[0m     \u001b[1;31m# Create the parser.\u001b[0m\u001b[1;33m\u001b[0m\u001b[1;33m\u001b[0m\u001b[0m\n\u001b[1;32m--> 449\u001b[1;33m     \u001b[0mparser\u001b[0m \u001b[1;33m=\u001b[0m \u001b[0mTextFileReader\u001b[0m\u001b[1;33m(\u001b[0m\u001b[0mfilepath_or_buffer\u001b[0m\u001b[1;33m,\u001b[0m \u001b[1;33m**\u001b[0m\u001b[0mkwds\u001b[0m\u001b[1;33m)\u001b[0m\u001b[1;33m\u001b[0m\u001b[0m\n\u001b[0m\u001b[0;32m    450\u001b[0m \u001b[1;33m\u001b[0m\u001b[0m\n\u001b[0;32m    451\u001b[0m     \u001b[1;32mif\u001b[0m \u001b[0mchunksize\u001b[0m \u001b[1;32mor\u001b[0m \u001b[0miterator\u001b[0m\u001b[1;33m:\u001b[0m\u001b[1;33m\u001b[0m\u001b[0m\n",
      "\u001b[1;32mC:\\Python3.6.0\\lib\\site-packages\\pandas\\io\\parsers.py\u001b[0m in \u001b[0;36m__init__\u001b[1;34m(self, f, engine, **kwds)\u001b[0m\n\u001b[0;32m    816\u001b[0m             \u001b[0mself\u001b[0m\u001b[1;33m.\u001b[0m\u001b[0moptions\u001b[0m\u001b[1;33m[\u001b[0m\u001b[1;34m'has_index_names'\u001b[0m\u001b[1;33m]\u001b[0m \u001b[1;33m=\u001b[0m \u001b[0mkwds\u001b[0m\u001b[1;33m[\u001b[0m\u001b[1;34m'has_index_names'\u001b[0m\u001b[1;33m]\u001b[0m\u001b[1;33m\u001b[0m\u001b[0m\n\u001b[0;32m    817\u001b[0m \u001b[1;33m\u001b[0m\u001b[0m\n\u001b[1;32m--> 818\u001b[1;33m         \u001b[0mself\u001b[0m\u001b[1;33m.\u001b[0m\u001b[0m_make_engine\u001b[0m\u001b[1;33m(\u001b[0m\u001b[0mself\u001b[0m\u001b[1;33m.\u001b[0m\u001b[0mengine\u001b[0m\u001b[1;33m)\u001b[0m\u001b[1;33m\u001b[0m\u001b[0m\n\u001b[0m\u001b[0;32m    819\u001b[0m \u001b[1;33m\u001b[0m\u001b[0m\n\u001b[0;32m    820\u001b[0m     \u001b[1;32mdef\u001b[0m \u001b[0mclose\u001b[0m\u001b[1;33m(\u001b[0m\u001b[0mself\u001b[0m\u001b[1;33m)\u001b[0m\u001b[1;33m:\u001b[0m\u001b[1;33m\u001b[0m\u001b[0m\n",
      "\u001b[1;32mC:\\Python3.6.0\\lib\\site-packages\\pandas\\io\\parsers.py\u001b[0m in \u001b[0;36m_make_engine\u001b[1;34m(self, engine)\u001b[0m\n\u001b[0;32m   1047\u001b[0m     \u001b[1;32mdef\u001b[0m \u001b[0m_make_engine\u001b[0m\u001b[1;33m(\u001b[0m\u001b[0mself\u001b[0m\u001b[1;33m,\u001b[0m \u001b[0mengine\u001b[0m\u001b[1;33m=\u001b[0m\u001b[1;34m'c'\u001b[0m\u001b[1;33m)\u001b[0m\u001b[1;33m:\u001b[0m\u001b[1;33m\u001b[0m\u001b[0m\n\u001b[0;32m   1048\u001b[0m         \u001b[1;32mif\u001b[0m \u001b[0mengine\u001b[0m \u001b[1;33m==\u001b[0m \u001b[1;34m'c'\u001b[0m\u001b[1;33m:\u001b[0m\u001b[1;33m\u001b[0m\u001b[0m\n\u001b[1;32m-> 1049\u001b[1;33m             \u001b[0mself\u001b[0m\u001b[1;33m.\u001b[0m\u001b[0m_engine\u001b[0m \u001b[1;33m=\u001b[0m \u001b[0mCParserWrapper\u001b[0m\u001b[1;33m(\u001b[0m\u001b[0mself\u001b[0m\u001b[1;33m.\u001b[0m\u001b[0mf\u001b[0m\u001b[1;33m,\u001b[0m \u001b[1;33m**\u001b[0m\u001b[0mself\u001b[0m\u001b[1;33m.\u001b[0m\u001b[0moptions\u001b[0m\u001b[1;33m)\u001b[0m\u001b[1;33m\u001b[0m\u001b[0m\n\u001b[0m\u001b[0;32m   1050\u001b[0m         \u001b[1;32melse\u001b[0m\u001b[1;33m:\u001b[0m\u001b[1;33m\u001b[0m\u001b[0m\n\u001b[0;32m   1051\u001b[0m             \u001b[1;32mif\u001b[0m \u001b[0mengine\u001b[0m \u001b[1;33m==\u001b[0m \u001b[1;34m'python'\u001b[0m\u001b[1;33m:\u001b[0m\u001b[1;33m\u001b[0m\u001b[0m\n",
      "\u001b[1;32mC:\\Python3.6.0\\lib\\site-packages\\pandas\\io\\parsers.py\u001b[0m in \u001b[0;36m__init__\u001b[1;34m(self, src, **kwds)\u001b[0m\n\u001b[0;32m   1693\u001b[0m         \u001b[0mkwds\u001b[0m\u001b[1;33m[\u001b[0m\u001b[1;34m'allow_leading_cols'\u001b[0m\u001b[1;33m]\u001b[0m \u001b[1;33m=\u001b[0m \u001b[0mself\u001b[0m\u001b[1;33m.\u001b[0m\u001b[0mindex_col\u001b[0m \u001b[1;32mis\u001b[0m \u001b[1;32mnot\u001b[0m \u001b[1;32mFalse\u001b[0m\u001b[1;33m\u001b[0m\u001b[0m\n\u001b[0;32m   1694\u001b[0m \u001b[1;33m\u001b[0m\u001b[0m\n\u001b[1;32m-> 1695\u001b[1;33m         \u001b[0mself\u001b[0m\u001b[1;33m.\u001b[0m\u001b[0m_reader\u001b[0m \u001b[1;33m=\u001b[0m \u001b[0mparsers\u001b[0m\u001b[1;33m.\u001b[0m\u001b[0mTextReader\u001b[0m\u001b[1;33m(\u001b[0m\u001b[0msrc\u001b[0m\u001b[1;33m,\u001b[0m \u001b[1;33m**\u001b[0m\u001b[0mkwds\u001b[0m\u001b[1;33m)\u001b[0m\u001b[1;33m\u001b[0m\u001b[0m\n\u001b[0m\u001b[0;32m   1696\u001b[0m \u001b[1;33m\u001b[0m\u001b[0m\n\u001b[0;32m   1697\u001b[0m         \u001b[1;31m# XXX\u001b[0m\u001b[1;33m\u001b[0m\u001b[1;33m\u001b[0m\u001b[0m\n",
      "\u001b[1;32mpandas\\_libs\\parsers.pyx\u001b[0m in \u001b[0;36mpandas._libs.parsers.TextReader.__cinit__\u001b[1;34m()\u001b[0m\n",
      "\u001b[1;32mpandas\\_libs\\parsers.pyx\u001b[0m in \u001b[0;36mpandas._libs.parsers.TextReader._setup_parser_source\u001b[1;34m()\u001b[0m\n",
      "\u001b[1;31mFileNotFoundError\u001b[0m: File b'data/PV_production.csv' does not exist"
     ],
     "output_type": "error"
    }
   ],
   "source": [
    "PV_profile = import_PV_profile_5_min()"
   ]
  },
  {
   "cell_type": "code",
   "execution_count": 6,
   "metadata": {
    "collapsed": true
   },
   "outputs": [
    {
     "name": "stdout",
     "output_type": "stream",
     "text": [
      "Creating the PV_prod.\nCreating the PV_prod.\n"
     ]
    }
   ],
   "source": [
    "PV_prod = FixedProductionUnit(time, name=\"PV_prod\", p=PV_profile, \n",
    "                              energy_type=energy_types.elec)"
   ]
  },
  {
   "cell_type": "markdown",
   "metadata": {},
   "source": [
    "De façon similaire, la consommation d'eau chaude sanitaire est considérée comme connue sur l'ensemble de la journée. Cette unité peut donc être définie par une unité de consommation fixe, grâce au profil de consommation (dhw_load), avec la commande suivante :"
   ]
  },
  {
   "cell_type": "code",
   "execution_count": 7,
   "metadata": {},
   "outputs": [
    {
     "name": "stdout",
     "output_type": "stream",
     "text": [
      "Creating the dhw.\nCreating the dhw.\n"
     ]
    }
   ],
   "source": [
    "dhw_load = import_domestic_hot_water_load_profile()\n",
    "dhw = FixedConsumptionUnit(time, name=\"dhw\", p=dhw_load, \n",
    "                                energy_type=energy_types.heat)"
   ]
  },
  {
   "cell_type": "markdown",
   "metadata": {},
   "source": [
    "Les deux autres charges (électriques) sont considérées comme flexibles du point de vue du moment de démarrage. Les profils sont donc connus, mais peuvent cette fois être déplacés dans le temps. On utilisera les unités de consommation *ShiftableConsumptionUnit*, paramétrées par les profils respectifs de la machine à laver (washer_load) et du sèche-linge (dryer_load), comme suit :"
   ]
  },
  {
   "cell_type": "code",
   "execution_count": 8,
   "metadata": {},
   "outputs": [
    {
     "name": "stdout",
     "output_type": "stream",
     "text": [
      "Creating the washer.\nCreating the washer.\nCreating the washer.\nCreating the dryer.\nCreating the dryer.\nCreating the dryer.\n"
     ]
    }
   ],
   "source": [
    "washer_load, dryer_load = import_clothes_washer_and_dryer_load_profiles()\n",
    "washer = ShiftableConsumptionUnit(time, name=\"washer\", \n",
    "                                  power_values=washer_load,  \n",
    "                                  energy_type=energy_types.elec)\n",
    "\n",
    "dryer = ShiftableConsumptionUnit(time, name=\"dryer\", \n",
    "                                 power_values=dryer_load,  \n",
    "                                 energy_type=energy_types.elec)"
   ]
  },
  {
   "cell_type": "markdown",
   "metadata": {},
   "source": [
    "Dernière consommation électrique, le chauffe-eau électrique convertit de 90% de l'électricité consommée en énergie thermique. Il sera donc représenté par une unité de conversion énergétique, et plus particulièrement, une unité de conversion d'énergie électrique en énergie thermique avec un facteur de conversion constant, selon la ligne de code suivante :"
   ]
  },
  {
   "cell_type": "code",
   "execution_count": 9,
   "metadata": {},
   "outputs": [
    {
     "name": "stdout",
     "output_type": "stream",
     "text": [
      "Creating the water_heater_heat_prod.\nCreating the water_heater_heat_prod.\nCreating the water_heater_elec_cons.\nCreating the water_heater_elec_cons.\nCreating the water_heater.\n"
     ]
    }
   ],
   "source": [
    "water_heater = ElectricalToHeatConversionUnit(\n",
    "    time, name=\"water_heater\", elec_to_heat_ratio=0.9)"
   ]
  },
  {
   "cell_type": "markdown",
   "metadata": {},
   "source": [
    "Enfin, il nous reste à intégrer le ballon d'eau chaude. Pour cela, nous nous appuierons sur un modèle simple de stockage d'une capacité de 6 kWh, ne devant pas se vider en-dessous de 20% de sa capacité et étant imposé à revenir à son état de charge initial à la fin de la journée. Nous ajouterons également un taux d'auto-décharge de 5% par heure. La formulation associée est la suivante :"
   ]
  },
  {
   "cell_type": "code",
   "execution_count": 10,
   "metadata": {},
   "outputs": [
    {
     "name": "stdout",
     "output_type": "stream",
     "text": [
      "Creating the water_tank.\n"
     ]
    }
   ],
   "source": [
    "water_tank = StorageUnit(time, name=\"water_tank\",  self_disch=0.05, \n",
    "                         soc_min=0.2, energy_type=energy_types.heat,\n",
    "                         ef_is_e0=True, capacity=6000, )"
   ]
  },
  {
   "cell_type": "markdown",
   "metadata": {},
   "source": [
    "Une fois les unités énergétiques définies, elles peuvent être connectées entre elles par l'intermédiaire des noeuds énergétiques. Dans notre cas, nous avons un bilan  électrique et un bilan thermique, donc deux noeuds énergétiques, définis comme :"
   ]
  },
  {
   "cell_type": "code",
   "execution_count": 11,
   "metadata": {},
   "outputs": [
    {
     "name": "stdout",
     "output_type": "stream",
     "text": [
      "Creating the elec_node.\n"
     ]
    }
   ],
   "source": [
    "elec_node = EnergyNode(time, name=\"elec_node\", \n",
    "                       energy_type=energy_types.elec)"
   ]
  },
  {
   "cell_type": "code",
   "execution_count": 12,
   "metadata": {},
   "outputs": [
    {
     "name": "stdout",
     "output_type": "stream",
     "text": [
      "Creating the heat_node.\n"
     ]
    }
   ],
   "source": [
    "heat_node = EnergyNode(time, name=\"heat_node\", \n",
    "                       energy_type=energy_types.heat)"
   ]
  },
  {
   "cell_type": "markdown",
   "metadata": {},
   "source": [
    "La connexion des unités énergétiques aux noeuds associés se fait alors comme suit :"
   ]
  },
  {
   "cell_type": "code",
   "execution_count": 13,
   "metadata": {},
   "outputs": [],
   "source": [
    "elec_node.connect_units(imports, exports, PV_prod, washer, \n",
    "                        dryer, water_heater.elec_consumption_unit)"
   ]
  },
  {
   "cell_type": "code",
   "execution_count": 14,
   "metadata": {},
   "outputs": [],
   "source": [
    "heat_node.connect_units(dhw, water_tank, \n",
    "                        water_heater.heat_production_unit)"
   ]
  },
  {
   "cell_type": "markdown",
   "metadata": {},
   "source": [
    "### Ajout des contraintes externes et de l'objectif de modélisation\n"
   ]
  },
  {
   "cell_type": "markdown",
   "metadata": {},
   "source": [
    "Dans ce cas d'étude, une contrainte externe doit être imposée : le fait que le sèche linge ne puisse pas démarrer tant que la machine à laver n'a pas fini son cycle. La contrainte étant ici temporelle, on définira cette dernière grâce à la classe *ExtDynConstraint*, héritant des classes de contraintes externe et dynamique, comme suit :"
   ]
  },
  {
   "cell_type": "code",
   "execution_count": 15,
   "metadata": {},
   "outputs": [],
   "source": [
    "cst = ExtDynConstraint(name=\"wait_to_dry\", \n",
    "                       exp_t=\"dryer_start_up[t] <= \"\n",
    "                              \"lpSum(washer_switch_off[k] \"\n",
    "                              \"for k in range(0, t))\",\n",
    "                       parent=dryer)\n"
   ]
  },
  {
   "cell_type": "markdown",
   "metadata": {},
   "source": [
    "La contrainte étant définie à partir de la variable d'arrêt de la machine à laver, il est nécessaire d'imposer que cette varible soit calculée, grâce à la commande suivante :"
   ]
  },
  {
   "cell_type": "code",
   "execution_count": 16,
   "metadata": {},
   "outputs": [],
   "source": [
    "washer._add_switch_off()"
   ]
  },
  {
   "cell_type": "markdown",
   "metadata": {},
   "source": [
    "Une fois définie, la contrainte est associée au sèche-linge de la façon suivante :\n"
   ]
  },
  {
   "cell_type": "code",
   "execution_count": 17,
   "metadata": {},
   "outputs": [],
   "source": [
    "setattr(dryer, \"wait_to_dry\", cst)"
   ]
  },
  {
   "cell_type": "markdown",
   "metadata": {},
   "source": [
    "Il est à noter que nous considérerons ici qu'une personne est présente dans l'habitation, afin de réaliser le transfert de vêtements. De problèmes plus complexes pourraient être modélisés en intégrant des contraintes externes limitant la plage horaire durant laquelle il est possible de transférer le linge.\n"
   ]
  },
  {
   "cell_type": "markdown",
   "metadata": {},
   "source": [
    "Désormais, nous souhaitons ajouter notre objectif : maximiser l'autoconsommation sur la journée, i.e. la part de la production d'électricité produite par les panneaux PV qui est consommée sur par la maison individuelle. Pour cela, nous cherchons donc à minimiser l'apport du réseau électrique et utiliserons donc la commande *minimize_production*, de la façon suivante :"
   ]
  },
  {
   "cell_type": "code",
   "execution_count": 18,
   "metadata": {},
   "outputs": [],
   "source": [
    "imports.minimize_production()"
   ]
  },
  {
   "cell_type": "markdown",
   "metadata": {},
   "source": [
    "### Lancement de l'optimisation et résultats"
   ]
  },
  {
   "cell_type": "markdown",
   "metadata": {},
   "source": [
    "Maintenant que le modèle énergétique est prêt et que les contrainte et objectif ont été ajoutés, nous souhaitons réaliser l'optimisation.\n"
   ]
  },
  {
   "cell_type": "markdown",
   "metadata": {},
   "source": [
    "La première étape est donc de créer le méta-modèle d'optimisation sous OMEGAlpes et d'y ajouter les noeuds énergétiques :\n"
   ]
  },
  {
   "cell_type": "code",
   "execution_count": 19,
   "metadata": {},
   "outputs": [],
   "source": [
    "model = OptimisationModel(time, name=\"example\")"
   ]
  },
  {
   "cell_type": "code",
   "execution_count": 20,
   "metadata": {},
   "outputs": [
    {
     "name": "stdout",
     "output_type": "stream",
     "text": [
      "\n--- Adding all variables to the model ---\nAdding variable : imports_p\nAdding variable : imports_e_tot\nAdding variable : imports_u\nAdding variable : exports_p\nAdding variable : exports_e_tot\nAdding variable : exports_u\nAdding variable : PV_prod_p\nAdding variable : PV_prod_e_tot\nAdding variable : washer_p\nAdding variable : washer_e_tot\nAdding variable : washer_u\nAdding variable : washer_start_up\nAdding variable : washer_switch_off\nAdding variable : washer_power_values\nAdding variable : dryer_p\nAdding variable : dryer_e_tot\nAdding variable : dryer_u\nAdding variable : dryer_start_up\nAdding variable : dryer_power_values\nAdding variable : water_heater_elec_cons_p\nAdding variable : water_heater_elec_cons_e_tot\nAdding variable : water_heater_elec_cons_u\nAdding variable : water_heater_heat_prod_p\nAdding variable : water_heater_heat_prod_e_tot\nAdding variable : water_heater_heat_prod_u\nAdding variable : dhw_p\nAdding variable : dhw_e_tot\nAdding variable : water_tank_p\nAdding variable : water_tank_e_tot\nAdding variable : water_tank_u\nAdding variable : water_tank_capacity\nAdding variable : water_tank_e\nAdding variable : water_tank_pc\nAdding variable : water_tank_pd\nAdding variable : water_tank_uc\nAdding variable : water_tank_e_f\n\n--- Adding all objectives to the model ---\nAdding objective : imports_min_production\n\n--- Adding all constraints to the model ---\nAdding constraint : elec_node_power_balance , exp = imports_p[t]-exports_p[t]+PV_prod_p[t]-washer_p[t]-dryer_p[t]-water_heater_elec_cons_p[t] == 0 for t in time.I\nAdding constraint : imports_calc_e_tot , exp = imports_e_tot == time.DT * lpSum(imports_p[t] for t in time.I)\nAdding constraint : imports_on_off_max , exp = imports_p[t] <= imports_u[t] * 100000.0 for t in time.I\nAdding constraint : imports_on_off_min , exp = imports_p[t] >= imports_u[t] * 1e-05 for t in time.I\nAdding constraint : exports_calc_e_tot , exp = exports_e_tot == time.DT * lpSum(exports_p[t] for t in time.I)\nAdding constraint : exports_on_off_max , exp = exports_p[t] <= exports_u[t] * 100000.0 for t in time.I\nAdding constraint : exports_on_off_min , exp = exports_p[t] >= exports_u[t] * 1e-05 for t in time.I\nAdding constraint : PV_prod_calc_e_tot , exp = PV_prod_e_tot == time.DT * lpSum(PV_prod_p[t] for t in time.I)\nAdding constraint : washer_calc_e_tot , exp = washer_e_tot == time.DT * lpSum(washer_p[t] for t in time.I)\nAdding constraint : washer_on_off_max , exp = washer_p[t] <= washer_u[t] * 530.0 for t in time.I\nAdding constraint : washer_on_off_min , exp = washer_p[t] >= washer_u[t] * 286.0 for t in time.I\nAdding constraint : washer_def_start_up , exp = washer_u[t+1] - washer_u[t] <= washer_start_up[t+1] for t in time.I[:-1]\nAdding constraint : washer_def_no_start_up , exp = washer_start_up[t+1] <= (washer_u[t+1] - washer_u[t] + 1)/2 for t in time.I[:-1]\nAdding constraint : washer_def_init_start_up , exp = washer_start_up[0] == washer_u[0]"
     ]
    },
    {
     "name": "stdout",
     "output_type": "stream",
     "text": [
      "\nAdding constraint : washer_def_0_power_value , exp = washer_p[t] >= washer_power_values[0] * washer_start_up[t-0] for t in time.I[0:-1]\nAdding constraint : washer_def_1_power_value , exp = washer_p[t] >= washer_power_values[1] * washer_start_up[t-1] for t in time.I[1:-1]\nAdding constraint : washer_def_2_power_value , exp = washer_p[t] >= washer_power_values[2] * washer_start_up[t-2] for t in time.I[2:-1]\nAdding constraint : washer_def_3_power_value , exp = washer_p[t] >= washer_power_values[3] * washer_start_up[t-3] for t in time.I[3:-1]\nAdding constraint : washer_def_4_power_value , exp = washer_p[t] >= washer_power_values[4] * washer_start_up[t-4] for t in time.I[4:-1]\nAdding constraint : washer_def_5_power_value , exp = washer_p[t] >= washer_power_values[5] * washer_start_up[t-5] for t in time.I[5:-1]\nAdding constraint : washer_def_6_power_value , exp = washer_p[t] >= washer_power_values[6] * washer_start_up[t-6] for t in time.I[6:-1]\nAdding constraint : washer_def_switch_off , exp = washer_switch_off[t+1] == washer_start_up[t+1] + washer_u[t] - washer_u[t+1] for t in time.I[:-1]\nAdding constraint : washer_def_init_switch_off , exp = washer_switch_off[0] == 0\nAdding constraint : dryer_calc_e_tot , exp = dryer_e_tot == time.DT * lpSum(dryer_p[t] for t in time.I)\nAdding constraint : dryer_on_off_max , exp = dryer_p[t] <= dryer_u[t] * 2914.0 for t in time.I\nAdding constraint : dryer_on_off_min , exp = dryer_p[t] >= dryer_u[t] * 190.0 for t in time.I\nAdding constraint : dryer_def_start_up , exp = dryer_u[t+1] - dryer_u[t] <= dryer_start_up[t+1] for t in time.I[:-1]\nAdding constraint : dryer_def_no_start_up , exp = dryer_start_up[t+1] <= (dryer_u[t+1] - dryer_u[t] + 1)/2 for t in time.I[:-1]\nAdding constraint : dryer_def_init_start_up , exp = dryer_start_up[0] == dryer_u[0]\nAdding constraint : dryer_def_0_power_value , exp = dryer_p[t] >= dryer_power_values[0] * dryer_start_up[t-0] for t in time.I[0:-1]\nAdding constraint : dryer_def_1_power_value , exp = dryer_p[t] >= dryer_power_values[1] * dryer_start_up[t-1] for t in time.I[1:-1]\nAdding constraint : dryer_def_2_power_value , exp = dryer_p[t] >= dryer_power_values[2] * dryer_start_up[t-2] for t in time.I[2:-1]\nAdding constraint : dryer_def_3_power_value , exp = dryer_p[t] >= dryer_power_values[3] * dryer_start_up[t-3] for t in time.I[3:-1]\nAdding constraint : dryer_def_4_power_value , exp = dryer_p[t] >= dryer_power_values[4] * dryer_start_up[t-4] for t in time.I[4:-1]\nAdding constraint : dryer_def_5_power_value , exp = dryer_p[t] >= dryer_power_values[5] * dryer_start_up[t-5] for t in time.I[5:-1]\nAdding constraint : dryer_def_6_power_value , exp = dryer_p[t] >= dryer_power_values[6] * dryer_start_up[t-6] for t in time.I[6:-1]\nAdding constraint : dryer_def_7_power_value , exp = dryer_p[t] >= dryer_power_values[7] * dryer_start_up[t-7] for t in time.I[7:-1]\nAdding constraint : dryer_def_8_power_value , exp = dryer_p[t] >= dryer_power_values[8] * dryer_start_up[t-8] for t in time.I[8:-1]\n"
     ]
    },
    {
     "name": "stdout",
     "output_type": "stream",
     "text": [
      "Adding constraint : dryer_def_9_power_value , exp = dryer_p[t] >= dryer_power_values[9] * dryer_start_up[t-9] for t in time.I[9:-1]\nAdding constraint : dryer_wait_to_dry , exp = dryer_start_up[t] <= lpSum(washer_switch_off[k] for k in range(0, t)) for t in time.I\nAdding constraint : water_heater_elec_cons_calc_e_tot , exp = water_heater_elec_cons_e_tot == time.DT * lpSum(water_heater_elec_cons_p[t] for t in time.I)\nAdding constraint : water_heater_elec_cons_on_off_max , exp = water_heater_elec_cons_p[t] <= water_heater_elec_cons_u[t] * 100000.0 for t in time.I"
     ]
    },
    {
     "name": "stdout",
     "output_type": "stream",
     "text": [
      "\nAdding constraint : water_heater_elec_cons_on_off_min , exp = water_heater_elec_cons_p[t] >= water_heater_elec_cons_u[t] * 1e-05 for t in time.I\nAdding constraint : water_heater_conversion , exp = water_heater_heat_prod_p[t] == 0.9 * water_heater_elec_cons_p[t] for t in time.I\nAdding constraint : water_heater_heat_prod_calc_e_tot , exp = water_heater_heat_prod_e_tot == time.DT * lpSum(water_heater_heat_prod_p[t] for t in time.I)\nAdding constraint : water_heater_heat_prod_on_off_max , exp = water_heater_heat_prod_p[t] <= water_heater_heat_prod_u[t] * 100000.0 for t in time.I\nAdding constraint : water_heater_heat_prod_on_off_min , exp = water_heater_heat_prod_p[t] >= water_heater_heat_prod_u[t] * 1e-05 for t in time.I\nAdding constraint : heat_node_power_balance , exp = -dhw_p[t]-water_tank_p[t]+water_heater_heat_prod_p[t] == 0 for t in time.I\nAdding constraint : dhw_calc_e_tot , exp = dhw_e_tot == time.DT * lpSum(dhw_p[t] for t in time.I)\nAdding constraint : water_tank_calc_e_tot , exp = water_tank_e_tot == time.DT * lpSum(water_tank_p[t] for t in time.I)\nAdding constraint : water_tank_on_off_max , exp = water_tank_p[t] <= water_tank_u[t] * 100000.0 for t in time.I\nAdding constraint : water_tank_on_off_min , exp = water_tank_p[t] >= water_tank_u[t] * -100000.0 for t in time.I\nAdding constraint : water_tank_set_soc_min , exp = water_tank_e[t] >= 0.2 * water_tank_capacity for t in time.I\nAdding constraint : water_tank_set_soc_max , exp = water_tank_e[t] <= 1 * water_tank_capacity for t in time.I\nAdding constraint : water_tank_calc_e , exp = water_tank_e[t+1] - water_tank_e[t]*(1-0*time.DT) - time.DT * (water_tank_pc[t]*1- water_tank_pd[t]*1/1- 0.05*water_tank_capacity) == 0 for t in time.I[:-1]\nAdding constraint : water_tank_calc_p , exp = water_tank_p[t] == water_tank_pc[t] - water_tank_pd[t] for t in time.I\nAdding constraint : water_tank_on_off_stock , exp = water_tank_pc[t] + water_tank_pd[t] - water_tank_u[t] * 0.001 >= 0 for t in time.I\n"
     ]
    },
    {
     "name": "stdout",
     "output_type": "stream",
     "text": [
      "Adding constraint : water_tank_def_max_charging , exp = water_tank_pc[t] - water_tank_uc[t] * 100000.0 <= 0 for t in time.I\nAdding constraint : water_tank_def_max_discharging , exp = water_tank_pd[t] - (1 - water_tank_uc[t]) * 100000.0 <= 0 for t in time.I\nAdding constraint : water_tank_def_min_charging , exp = water_tank_pc[t] - water_tank_uc[t] * 1e-05 >= 0 for t in time.I\nAdding constraint : water_tank_def_min_discharging , exp = water_tank_pd[t] + (water_tank_uc[t] - water_tank_u[t]) * 1e-05 >= 0 for t in time.I\nAdding constraint : water_tank_e_f_min , exp = water_tank_e_f >= 0.2 * water_tank_capacity\nAdding constraint : water_tank_e_f_max , exp = water_tank_e_f <= 1 * water_tank_capacity\nAdding constraint : water_tank_calc_e_f , exp = water_tank_e_f-water_tank_e[287] == 0.08333333333333333*(water_tank_pc[287]*1-water_tank_pd[287]*1/1-0*water_tank_e[287]-0.05*water_tank_capacity)\nAdding constraint : water_tank_ef_is_e0 , exp = water_tank_e[0] == water_tank_e_f\n"
     ]
    }
   ],
   "source": [
    "model.add_nodes(elec_node, heat_node)"
   ]
  },
  {
   "cell_type": "code",
   "execution_count": 21,
   "metadata": {},
   "outputs": [],
   "source": [
    "from omegalpes.general.plots import plot_node_energetic_flows"
   ]
  },
  {
   "cell_type": "code",
   "execution_count": 22,
   "metadata": {},
   "outputs": [
    {
     "name": "stdout",
     "output_type": "stream",
     "text": [
      "\n - - - - - RUN OPTIMIZATION - - - - - \n"
     ]
    },
    {
     "name": "stdout",
     "output_type": "stream",
     "text": [
      "Resolution duration = 208.0644016265869 seconds.\n\n - - - - - UPDATE RESULTS - - - - - \nUpdating unit : elec_node\nUpdating unit : imports\n\tQuantity : p\n\tQuantity : e_tot\n\tQuantity : u\nUpdating unit : exports\n\tQuantity : p\n\tQuantity : e_tot\n\tQuantity : u\nUpdating unit : PV_prod\n\tQuantity : p\n\tQuantity : e_tot\nUpdating unit : washer\n\tQuantity : p\n\tQuantity : e_tot\n\tQuantity : u\n\tQuantity : start_up\n\tQuantity : switch_off\n\tQuantity : power_values\nUpdating unit : dryer\n\tQuantity : p\n\tQuantity : e_tot\n\tQuantity : u\n\tQuantity : start_up\n\tQuantity : power_values\nUpdating unit : water_heater_elec_cons\n\tQuantity : p\n\tQuantity : e_tot\n\tQuantity : u\nUpdating unit : water_heater\nUpdating unit : water_heater_heat_prod\n\tQuantity : p\n\tQuantity : e_tot\n\tQuantity : u\nUpdating unit : heat_node\nUpdating unit : dhw\n\tQuantity : p\n\tQuantity : e_tot\nUpdating unit : water_tank\n\tQuantity : p\n\tQuantity : e_tot\n\tQuantity : u\n\tQuantity : capacity\n\tQuantity : e\n\tQuantity : pc\n\tQuantity : pd\n\tQuantity : uc\n\tQuantity : e_f\n"
     ]
    }
   ],
   "source": [
    "model.solve_and_update()"
   ]
  },
  {
   "cell_type": "markdown",
   "metadata": {},
   "source": [
    "Il est désormais possible de visualiser les résultats. Certaines commandes peuvent être directement utilisées en les importants du module *plots* : \n"
   ]
  },
  {
   "cell_type": "code",
   "execution_count": 23,
   "metadata": {},
   "outputs": [],
   "source": [
    "from omegalpes.general.plots import *"
   ]
  },
  {
   "cell_type": "code",
   "execution_count": null,
   "metadata": {},
   "outputs": [],
   "source": [
    "plot_node_energetic_flows(elec_node)"
   ]
  },
  {
   "cell_type": "code",
   "execution_count": 27,
   "metadata": {},
   "outputs": [],
   "source": [
    "from omegalpes.general.utils import save_energy_flows"
   ]
  },
  {
   "cell_type": "code",
   "execution_count": null,
   "metadata": {},
   "outputs": [],
   "source": [
    "save_energy_flows(elec_node, heat_node, sep=';',\n",
    "                  file_name=os.getcwd() + \n",
    "                            'example_results.csv')"
   ]
  }
 ],
 "metadata": {
  "kernelspec": {
   "display_name": "Python 3",
   "language": "python",
   "name": "python3"
  },
  "language_info": {
   "codemirror_mode": {
    "name": "ipython",
    "version": 3
   },
   "file_extension": ".py",
   "mimetype": "text/x-python",
   "name": "python",
   "nbconvert_exporter": "python",
   "pygments_lexer": "ipython3",
   "version": "3.6.0"
  }
 },
 "nbformat": 4,
 "nbformat_minor": 1
}
